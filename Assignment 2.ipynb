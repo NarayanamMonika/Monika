{
 "cells": [
  {
   "cell_type": "code",
   "execution_count": 1,
   "metadata": {},
   "outputs": [
    {
     "name": "stdout",
     "output_type": "stream",
     "text": [
      "24\n"
     ]
    }
   ],
   "source": [
    "def my_reduce(func,my_list):\n",
    "    sum=my_list[0]\n",
    "    for i in my_list[1:]:\n",
    "        sum=func(sum,i)\n",
    "    return sum\n",
    "lis=[1,2,3,4]\n",
    "total=my_reduce(lambda x,y:x*y,lis)\n",
    "print(total)"
   ]
  },
  {
   "cell_type": "code",
   "execution_count": 2,
   "metadata": {},
   "outputs": [],
   "source": [
    "def my_filter(func,my_list):\n",
    "    result=[]\n",
    "    for i in my_list:\n",
    "        if func(i):\n",
    "            result.append(i)\n",
    "    return result"
   ]
  },
  {
   "cell_type": "code",
   "execution_count": 31,
   "metadata": {},
   "outputs": [
    {
     "name": "stdout",
     "output_type": "stream",
     "text": [
      "how many words:3\n",
      "chennai\n",
      "kochi\n",
      "jaipur\n",
      "the longest word is chennai\n"
     ]
    }
   ],
   "source": [
    "n=int(input('how many words:'))\n",
    "m=[]\n",
    "def long_word(n):\n",
    "    for i in range(n):\n",
    "        b=input()\n",
    "        m.append(b)    \n",
    "    temp=m[0]\n",
    "    max=len(m[0])\n",
    "    for i in m:\n",
    "        if(len(i)>max):\n",
    "            max=len(i)\n",
    "            temp=i\n",
    "    return temp\n",
    "a=long_word(n)\n",
    "print(\"the longest word is\",a)"
   ]
  },
  {
   "cell_type": "code",
   "execution_count": 30,
   "metadata": {},
   "outputs": [
    {
     "name": "stdout",
     "output_type": "stream",
     "text": [
      "Enter the value of a = 34\n",
      "Enter the value of b = 56\n",
      "Enter the value of c= 78\n",
      "area : 34\n"
     ]
    }
   ],
   "source": [
    "class Triangle:\n",
    "    def __init__(self,a,b,c):\n",
    "        self.a = a\n",
    "        self.b = b\n",
    "        self.c = c\n",
    "    def area(self):\n",
    "        s=(self.a + self.b + self.c)/2\n",
    "        area1=(s*((s-self.a)*(s-self.b)*(s-self.c)))** 0.5\n",
    "        return area1\n",
    "a=int(input(\"Enter the value of a = \"))\n",
    "b=int(input(\"Enter the value of b = \"))\n",
    "c=int(input(\"Enter the value of c= \"))\n",
    "a1=Triangle(a,b,c)\n",
    "print(\"area :\",a)"
   ]
  },
  {
   "cell_type": "code",
   "execution_count": 32,
   "metadata": {},
   "outputs": [
    {
     "name": "stdout",
     "output_type": "stream",
     "text": [
      "3\n",
      "there is pet in my house\n",
      "['there', 'house']\n"
     ]
    }
   ],
   "source": [
    "def long_words(n, str):  \n",
    "    word_len = []  \n",
    "    txt = str.split(\" \")  \n",
    "    for x in txt:  \n",
    "        if len(x) > n:  \n",
    "            word_len.append(x)  \n",
    "    return word_len\n",
    "n=int(input())\n",
    "str=input()\n",
    "a=long_words(n,str)\n",
    "print(a)"
   ]
  },
  {
   "cell_type": "code",
   "execution_count": 33,
   "metadata": {},
   "outputs": [
    {
     "name": "stdout",
     "output_type": "stream",
     "text": [
      "enter the list3\n",
      "were\n",
      "there\n",
      "here\n",
      "[4, 5, 4]\n"
     ]
    }
   ],
   "source": [
    "def fun(n):\n",
    "    m=[]\n",
    "    l=[]\n",
    "    for i in range(n):\n",
    "        k=input()\n",
    "        m.append(k)\n",
    "    for i in m:\n",
    "        j=len(i)\n",
    "        l.append(j)\n",
    "    return l \n",
    "n=int(input(\"enter the list\"))\n",
    "a=fun(n)\n",
    "print(a)"
   ]
  },
  {
   "cell_type": "code",
   "execution_count": 36,
   "metadata": {},
   "outputs": [
    {
     "name": "stdout",
     "output_type": "stream",
     "text": [
      "True\n",
      "True\n",
      "False\n"
     ]
    }
   ],
   "source": [
    "def is_vowel(char):\n",
    "    all_vowels = 'aeiou'\n",
    "    return char in all_vowels\n",
    "print(is_vowel('o'))\n",
    "print(is_vowel('i'))\n",
    "print(is_vowel('k'))"
   ]
  },
  {
   "cell_type": "code",
   "execution_count": null,
   "metadata": {},
   "outputs": [],
   "source": []
  }
 ],
 "metadata": {
  "kernelspec": {
   "display_name": "Python 3",
   "language": "python",
   "name": "python3"
  },
  "language_info": {
   "codemirror_mode": {
    "name": "ipython",
    "version": 3
   },
   "file_extension": ".py",
   "mimetype": "text/x-python",
   "name": "python",
   "nbconvert_exporter": "python",
   "pygments_lexer": "ipython3",
   "version": "3.7.6"
  }
 },
 "nbformat": 4,
 "nbformat_minor": 4
}
